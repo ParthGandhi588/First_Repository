{
 "cells": [
  {
   "cell_type": "markdown",
   "id": "d5a683b6-cba9-47f2-84a8-0be4e7e0d746",
   "metadata": {},
   "source": [
    "# Data Science tools and Eco System"
   ]
  },
  {
   "cell_type": "markdown",
   "id": "073c9772-b9ad-4175-8909-30cf6ffd4897",
   "metadata": {},
   "source": [
    "##### In this Notebook, Data Science tools and Eco System are summarized."
   ]
  },
  {
   "cell_type": "markdown",
   "id": "ded56b54-c4ff-4cae-8a56-963d0cebc192",
   "metadata": {},
   "source": [
    "#### **Objective**\n",
    "* Python\n",
    "* R\n",
    "* SQL\n",
    "* Pandas\n",
    "* Numpy\n",
    "* TensorFlow"
   ]
  },
  {
   "cell_type": "markdown",
   "id": "950941a4-7a19-4b2b-a9d9-dba333669f88",
   "metadata": {},
   "source": [
    "##### Some of the popular languages that Data Scientists use are:\n",
    "1. python\n",
    "2. R\n",
    "3. SQL"
   ]
  },
  {
   "cell_type": "markdown",
   "id": "42ea8060-67ff-4fde-a654-0e1e5b5cc9eb",
   "metadata": {},
   "source": [
    "##### Some of the commonly used libraries used by Data Scientists include:\r",
    "1. Pandas\n",
    "2. Numpy\n",
    "3. TensorFlow\n"
   ]
  },
  {
   "cell_type": "markdown",
   "id": "83351605-a548-42d2-85bd-9a16d0f6e0ff",
   "metadata": {},
   "source": [
    "Data Science Tools |\n",
    "-------------------|\n",
    "Matlab |\n",
    "Azur Ml|\n",
    "IBM SPSS|\n"
   ]
  },
  {
   "cell_type": "markdown",
   "id": "1cba695f-0690-45e3-8a06-16f5f7f00219",
   "metadata": {},
   "source": [
    "### Below are a few examples of evaluating arithmetic expressions in Python\n"
   ]
  },
  {
   "cell_type": "code",
   "execution_count": 1,
   "id": "e7eb7722-a3f3-4b5b-8967-839259b385f8",
   "metadata": {},
   "outputs": [
    {
     "data": {
      "text/plain": [
       "17"
      ]
     },
     "execution_count": 1,
     "metadata": {},
     "output_type": "execute_result"
    }
   ],
   "source": [
    "# This is simple arithmetic expression to multiply then add integers\n",
    "(3*4)+5"
   ]
  },
  {
   "cell_type": "code",
   "execution_count": 2,
   "id": "77535130-a435-4f25-a4b1-8c744d2794b1",
   "metadata": {},
   "outputs": [
    {
     "data": {
      "text/plain": [
       "3.3333333333333335"
      ]
     },
     "execution_count": 2,
     "metadata": {},
     "output_type": "execute_result"
    }
   ],
   "source": [
    "# This will convert 200 minutes to hours by diving by 60\n",
    "200/60 "
   ]
  },
  {
   "cell_type": "markdown",
   "id": "67c5e2e3-32aa-4ebb-be4f-c2145d8d258d",
   "metadata": {},
   "source": [
    "## Author\n",
    "##### Parth Gandhi"
   ]
  },
  {
   "cell_type": "code",
   "execution_count": null,
   "id": "07fc2f47-cd7e-4dcc-80ff-65e33cbbfaec",
   "metadata": {},
   "outputs": [],
   "source": []
  }
 ],
 "metadata": {
  "kernelspec": {
   "display_name": "Python 3 (ipykernel)",
   "language": "python",
   "name": "python3"
  },
  "language_info": {
   "codemirror_mode": {
    "name": "ipython",
    "version": 3
   },
   "file_extension": ".py",
   "mimetype": "text/x-python",
   "name": "python",
   "nbconvert_exporter": "python",
   "pygments_lexer": "ipython3",
   "version": "3.11.7"
  }
 },
 "nbformat": 4,
 "nbformat_minor": 5
}
